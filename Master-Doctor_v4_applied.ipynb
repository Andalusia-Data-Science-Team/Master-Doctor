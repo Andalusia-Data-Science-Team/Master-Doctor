{
 "cells": [
  {
   "cell_type": "code",
   "execution_count": 1,
   "outputs": [],
   "source": [
    "import urllib\n",
    "import sqlalchemy\n",
    "import pyodbc\n",
    "import os\n",
    "from datetime import datetime, timedelta\n",
    "from datetime import date\n",
    "import pandas as pd\n",
    "import calendar\n",
    "from similarity import calculate_levenshtein\n",
    "from utilities import calculate_sim,preprocess_doc,find_kth_max_indices,fuzzy_score,data_dict_utools\n",
    "from utilities import check_ara, translate_ara\n",
    "import time\n",
    "\n",
    "seconds_in_a_day = 24 * 60 * 60  # Total seconds in a day\n",
    "sleep_duration_days = 0.75\n",
    "sleep_duration_seconds = sleep_duration_days * seconds_in_a_day\n",
    "\n",
    "query = f'''\n",
    "select distinct o.OrganizationUnifiedName,s.Staff_name from dax.factbilling b inner join dax.dimstaff s\n",
    "on b.Doctor_Key=s.Staff_Key\n",
    "inner join dax.dimOrganization o on b.Organization_Key=o.OrganizationKey\n",
    "where\n",
    "service_date>cast(DATEADD(month, DATEDIFF(month, -1, getdate()) - 2, 0)as date)\n",
    "and  b.organization_key in (1,3,5,4,9,10,13)\n",
    "order by o.OrganizationUnifiedName\n",
    "'''\n",
    "\n",
    "def load_staff_data():\n",
    "    connect_string = urllib.parse.quote_plus(\n",
    "        'DRIVER={ODBC Driver 17 for SQL Server};Server=AWS-BI-03;Database=DWH;UID=AI;PWD=P@ssw0rd;charset=\"utf-8\";')\n",
    "    engine = sqlalchemy.create_engine(f'mssql+pyodbc:///?odbc_connect={connect_string}', fast_executemany=True)\n",
    "\n",
    "    with engine.connect() as connection:\n",
    "        return pd.read_sql(query, engine)\n",
    "\n",
    "df_Staff = load_staff_data()\n",
    "\n",
    "df_Staff.dropna(inplace=True)\n",
    "today = date.today();   month_num = str(today.month); year_num = str(today.year)\n",
    "path_staff = f'data/Billing/{year_num}_{month_num}'\n",
    "\n",
    "if not os.path.exists(path_staff):\n",
    "    os.makedirs(path_staff)\n",
    "\n",
    "path_staff = path_staff+'/staff_data.csv'\n",
    "df_Staff.to_csv(f'data/Billing/{year_num}_{month_num}/staff_data.csv',\n",
    "                index=False,encoding='utf-8-sig')  ## staff add translation"
   ],
   "metadata": {
    "collapsed": false,
    "ExecuteTime": {
     "end_time": "2024-03-03T09:16:43.858202100Z",
     "start_time": "2024-03-03T09:13:15.122913800Z"
    }
   }
  },
  {
   "cell_type": "code",
   "execution_count": 2,
   "outputs": [],
   "source": [
    "def load_lead_src_data():\n",
    "    connect_string = urllib.parse.quote_plus(\n",
    "        'DRIVER={ODBC Driver 17 for SQL Server};Server=AWS-BI-03;Database=DWH;UID=AI;PWD=P@ssw0rd;charset=\"utf-8\";')\n",
    "    engine = sqlalchemy.create_engine(f'mssql+pyodbc:///?odbc_connect={connect_string}', fast_executemany=True)\n",
    "\n",
    "    query = f\"\"\"\n",
    "select distinct Source_Unit, Topic from dimlead\n",
    "where Source_Unit in ('HJH','ALW','ADC','APC','AKW')\n",
    "and Lead_Source in ('DoctorUna','EasyDoc','Tebcan','Vezeeta')\n",
    "and Lead_CreationDate>=  cast(DATEADD(mm, DATEDIFF(m,0,GETDATE()),0)as date)\n",
    "and topic not in (select [Doctor Topic]from Aff_doc_mapping)\n",
    "order by Source_Unit\n",
    "\"\"\"\n",
    "\n",
    "    with engine.connect() as connection:\n",
    "        return pd.read_sql(query, engine)\n",
    "\n",
    "df_lead = load_lead_src_data()\n",
    "\n",
    "df_lead.Source_Unit = df_lead.Source_Unit.str.replace('APC','AFW')\n",
    "df_lead = df_lead[df_lead['Topic']!='General']\n",
    "\n",
    "today = date.today(); day_num =str(today.day);  month_num = str(today.month); year_num = str(today.year)\n",
    "dated_dir = year_num + '_' + month_num + '/' + day_num\n",
    "path_dir = 'data/CRM/' + dated_dir\n",
    "\n",
    "if not os.path.exists(path_dir):\n",
    "    os.makedirs(path_dir)\n",
    "\n",
    "path_dir = path_dir + '/lead_source_doc.csv'\n",
    "df_lead.to_csv(path_dir,index=False,encoding='utf-8-sig') ## lead_src add translation"
   ],
   "metadata": {
    "collapsed": false,
    "ExecuteTime": {
     "end_time": "2024-03-03T09:16:47.971690Z",
     "start_time": "2024-03-03T09:16:43.747162500Z"
    }
   }
  },
  {
   "cell_type": "code",
   "execution_count": 3,
   "outputs": [],
   "source": [
    "today = date.today();   month_num = str(today.month); year_num = str(today.year)\n",
    "if len(month_num) < 2:\n",
    "    month_num = '0' +str(month_num)\n",
    "\n",
    "month_name = calendar.month_name[int(month_num)]\n",
    "data_dict = data_dict_utools\n",
    "\n",
    "lead_src_path = 'data/CRM/' + year_num + '_' + month_num + '/'\n",
    "path_crm = lead_src_path + 'lead_source_doc.csv'\n",
    "\n",
    "doc_undefined_prep = pd.read_csv(path_dir)\n",
    "doc_undefined_unprep = pd.read_csv(path_dir)\n",
    "\n",
    "origin_staff  = pd.read_csv(path_staff)\n",
    "edited_staff  = pd.read_csv(path_staff)\n",
    "\n",
    "for i in range(len(doc_undefined_prep)):\n",
    "    if check_ara(doc_undefined_prep.Topic.iloc[i]):\n",
    "        doc_undefined_prep.Topic.iloc[i] = translate_ara(doc_undefined_prep.Topic.iloc[i])\n",
    "\n",
    "## main preprocessing\n",
    "edited_staff['Staff_name'] = edited_staff['Staff_name'].apply(lambda x: preprocess_doc(x))\n",
    "doc_undefined_prep['Topic'] = doc_undefined_prep['Topic'].apply(lambda x: preprocess_doc(x))"
   ],
   "metadata": {
    "collapsed": false,
    "ExecuteTime": {
     "end_time": "2024-03-03T09:16:48.702988800Z",
     "start_time": "2024-03-03T09:16:47.971690Z"
    }
   }
  },
  {
   "cell_type": "code",
   "execution_count": 4,
   "outputs": [],
   "source": [
    "num_patches = 1; patch_size = len(doc_undefined_prep) // num_patches\n",
    "all_bu_set = set(doc_undefined_prep['Source_Unit'])\n",
    "\n",
    "best_matches_df = pd.DataFrame(); doctors = []; doctors_prep=[]; poss_match = []; scores_sim= []; bu_match = []\n",
    "\n",
    "for bu in all_bu_set:\n",
    "    bu_dict = data_dict[bu]\n",
    "\n",
    "    df_lbu = doc_undefined_prep[doc_undefined_prep['Source_Unit']==bu]\n",
    "    df_bu  = doc_undefined_unprep[doc_undefined_unprep['Source_Unit']==bu]\n",
    "    df_sbu = edited_staff[edited_staff['OrganizationUnifiedName']==bu]\n",
    "    df_org_sbu = origin_staff[origin_staff['OrganizationUnifiedName']==bu]\n",
    "\n",
    "\n",
    "    keys_done = []\n",
    "    for counter_ in range(len(df_lbu.Topic)):\n",
    "        name = df_lbu.Topic.iloc[counter_]\n",
    "        if name in bu_dict.keys():\n",
    "            keys_done.append(df_bu.Topic.iloc[counter_])\n",
    "            best_match_text = bu_dict[name]\n",
    "            doctors.append(df_bu.Topic.iloc[counter_]); poss_match.append(best_match_text)\n",
    "            extract_score = fuzzy_score()\n",
    "            doctors_prep.append(df_lbu.Topic.iloc[counter_]); scores_sim.append(extract_score); bu_match.append(bu)\n",
    "\n",
    "    for patch_index in range(num_patches):\n",
    "        start_index = patch_index * patch_size\n",
    "        end_index = (patch_index + 1) * patch_size if patch_index < num_patches - 1 else len(df_bu)\n",
    "        text1_patch = df_lbu['Topic'].tolist()[start_index:end_index]\n",
    "        text2_patch = df_sbu['Staff_name'].tolist()\n",
    "\n",
    "        similarity_scores = calculate_sim(text1_patch,text2_patch)\n",
    "        for i, scores in enumerate(similarity_scores):\n",
    "            if len(scores)>0:\n",
    "                    indices_matches = find_kth_max_indices(scores, 10)\n",
    "                    best_match_index = max(range(len(scores)), key=scores.__getitem__)\n",
    "\n",
    "                    match_indices = list(reversed(list(indices_matches)))\n",
    "                    best_match_score = scores[best_match_index]\n",
    "                    best_match_text = df_org_sbu['Staff_name'].iloc[best_match_index]\n",
    "\n",
    "                    if len(df_lbu.Topic.iloc[i].split(' '))>1:\n",
    "                        oth_cond = df_lbu.Topic.iloc[i].split(' ')[1].lower().strip() in best_match_text.lower().split(' ')[1:]\n",
    "                    else:\n",
    "                        oth_cond = df_lbu.Topic.iloc[i].split(' ')[0].lower().strip() in best_match_text.lower().split(' ')[1:]\n",
    "\n",
    "                    text1 = df_lbu.Topic.iloc[i].split(' ')[0].lower(); text2 = best_match_text.split(' ')[0].lower()\n",
    "\n",
    "                    if calculate_levenshtein(text1,text2) < 3 or (text1==text2 and oth_cond):\n",
    "                        doctors.append(df_bu.Topic.iloc[i]); poss_match.append(best_match_text)\n",
    "                        doctors_prep.append(df_lbu.Topic.iloc[i]); scores_sim.append(best_match_score); bu_match.append(bu)\n",
    "\n",
    "                    else:\n",
    "                        topic_text = df_bu.Topic.iloc[i]; best_match_ex = best_match_text\n",
    "                        prep_text  = df_lbu.Topic.iloc[i]\n",
    "                        flag = 0; counter =0\n",
    "\n",
    "                        text1 = df_bu['Topic'].iloc[i].split(' ')[0].lower()\n",
    "\n",
    "                        while counter<5 and flag==0:\n",
    "                            for looper in range(len(df_sbu)):\n",
    "                                text2 = df_sbu['Staff_name'].iloc[looper].split(' ')[0].lower()\n",
    "                                if calculate_levenshtein(text1,text2) == counter or text1==text2:\n",
    "                                    flag = 1\n",
    "                                    best_match_ex  = df_org_sbu['Staff_name'].iloc[looper]\n",
    "                            counter += 1\n",
    "                        doctors.append(topic_text); poss_match.append(best_match_ex)\n",
    "                        doctors_prep.append(prep_text)\n",
    "                        scores_sim.append(best_match_score); bu_match.append(bu)\n",
    "\n",
    "columns = ['Doctor Topic', 'Doctor Prep', 'Staff Name','Business Unit', 'Similarity Score']\n",
    "best_matches_df[columns[0]] = doctors #; best_matches_df[columns[1]] = doctors_prep\n",
    "best_matches_df[columns[2]] = poss_match\n",
    "best_matches_df[columns[3]] = bu_match;  best_matches_df[columns[4]] = scores_sim\n",
    "\n",
    "best_matches_df.sort_values(by=['Similarity Score'],ascending=False,inplace=True)\n",
    "best_matches_df.drop_duplicates(subset=['Doctor Topic'],keep='first',inplace=True)\n",
    "\n",
    "matches_path = 'output/' + year_num + '_' + month_num + '_' + day_num + '_' + 'best_matches.csv'\n",
    "best_matches_df.to_csv(matches_path,index=False,encoding='utf-8-sig')\n",
    "best_matches_df['Staff Key'] = 'None'"
   ],
   "metadata": {
    "collapsed": false,
    "ExecuteTime": {
     "end_time": "2024-03-03T09:16:48.817798500Z",
     "start_time": "2024-03-03T09:16:48.717948100Z"
    }
   }
  },
  {
   "cell_type": "code",
   "execution_count": 5,
   "outputs": [
    {
     "data": {
      "text/plain": "                       Doctor Topic                         Staff Name  \\\n0           Ramy Atef  - 2024-03-04       RAMY ATEF IBRAHIM ABDELHAMID   \n40      Osama  Alamri  - 2024-03-03               OSAMA SAEED  ALAMARI   \n31  Ahmed  AlShehri's  - 2024-03-03        AHMED HASSAN AHMED ELSHAHRI   \n35        Jameel Al-Ata  2024-03-04            GAMEEL ABDUAZIZ  ALATTA   \n47   Safaa Abu El Azm  - 2024-03-06     SAFA SAAD ABDULRAHMAN ABUALAZM   \n..                              ...                                ...   \n2         Naglaa Bekhit  2024-03-05   NAGLAA ABDELMONEIM REHIM BEKHEET   \n17        Asmaa Gumaa  - 2024-03-02       Asmaa Gumah Yousf Abdelmenem   \n5           Maha Qabany  2024-03-03      MAHA FIKRY TAWFIC SHEHABELDIN   \n98     Ahmed AL gendy  - 2024-03-02  AHMED MAGDY SAEED ISMAEEL ALGENDY   \n23        ياسمين أحمد  - 2024-03-02              Walaa Ahmed Elsadany    \n\n   Business Unit  Similarity Score Staff Key  \n0            ADC          0.999289      None  \n40           HJH          0.999184      None  \n31           HJH          0.998584      None  \n35           HJH          0.993763      None  \n47           HJH          0.989886      None  \n..           ...               ...       ...  \n2            ADC          0.310023      None  \n17           AFW          0.301320      None  \n5            ADC          0.278293      None  \n98           AKW          0.229110      None  \n23           AFW          0.209536      None  \n\n[67 rows x 5 columns]",
      "text/html": "<div>\n<style scoped>\n    .dataframe tbody tr th:only-of-type {\n        vertical-align: middle;\n    }\n\n    .dataframe tbody tr th {\n        vertical-align: top;\n    }\n\n    .dataframe thead th {\n        text-align: right;\n    }\n</style>\n<table border=\"1\" class=\"dataframe\">\n  <thead>\n    <tr style=\"text-align: right;\">\n      <th></th>\n      <th>Doctor Topic</th>\n      <th>Staff Name</th>\n      <th>Business Unit</th>\n      <th>Similarity Score</th>\n      <th>Staff Key</th>\n    </tr>\n  </thead>\n  <tbody>\n    <tr>\n      <th>0</th>\n      <td>Ramy Atef  - 2024-03-04</td>\n      <td>RAMY ATEF IBRAHIM ABDELHAMID</td>\n      <td>ADC</td>\n      <td>0.999289</td>\n      <td>None</td>\n    </tr>\n    <tr>\n      <th>40</th>\n      <td>Osama  Alamri  - 2024-03-03</td>\n      <td>OSAMA SAEED  ALAMARI</td>\n      <td>HJH</td>\n      <td>0.999184</td>\n      <td>None</td>\n    </tr>\n    <tr>\n      <th>31</th>\n      <td>Ahmed  AlShehri's  - 2024-03-03</td>\n      <td>AHMED HASSAN AHMED ELSHAHRI</td>\n      <td>HJH</td>\n      <td>0.998584</td>\n      <td>None</td>\n    </tr>\n    <tr>\n      <th>35</th>\n      <td>Jameel Al-Ata  2024-03-04</td>\n      <td>GAMEEL ABDUAZIZ  ALATTA</td>\n      <td>HJH</td>\n      <td>0.993763</td>\n      <td>None</td>\n    </tr>\n    <tr>\n      <th>47</th>\n      <td>Safaa Abu El Azm  - 2024-03-06</td>\n      <td>SAFA SAAD ABDULRAHMAN ABUALAZM</td>\n      <td>HJH</td>\n      <td>0.989886</td>\n      <td>None</td>\n    </tr>\n    <tr>\n      <th>...</th>\n      <td>...</td>\n      <td>...</td>\n      <td>...</td>\n      <td>...</td>\n      <td>...</td>\n    </tr>\n    <tr>\n      <th>2</th>\n      <td>Naglaa Bekhit  2024-03-05</td>\n      <td>NAGLAA ABDELMONEIM REHIM BEKHEET</td>\n      <td>ADC</td>\n      <td>0.310023</td>\n      <td>None</td>\n    </tr>\n    <tr>\n      <th>17</th>\n      <td>Asmaa Gumaa  - 2024-03-02</td>\n      <td>Asmaa Gumah Yousf Abdelmenem</td>\n      <td>AFW</td>\n      <td>0.301320</td>\n      <td>None</td>\n    </tr>\n    <tr>\n      <th>5</th>\n      <td>Maha Qabany  2024-03-03</td>\n      <td>MAHA FIKRY TAWFIC SHEHABELDIN</td>\n      <td>ADC</td>\n      <td>0.278293</td>\n      <td>None</td>\n    </tr>\n    <tr>\n      <th>98</th>\n      <td>Ahmed AL gendy  - 2024-03-02</td>\n      <td>AHMED MAGDY SAEED ISMAEEL ALGENDY</td>\n      <td>AKW</td>\n      <td>0.229110</td>\n      <td>None</td>\n    </tr>\n    <tr>\n      <th>23</th>\n      <td>ياسمين أحمد  - 2024-03-02</td>\n      <td>Walaa Ahmed Elsadany</td>\n      <td>AFW</td>\n      <td>0.209536</td>\n      <td>None</td>\n    </tr>\n  </tbody>\n</table>\n<p>67 rows × 5 columns</p>\n</div>"
     },
     "execution_count": 5,
     "metadata": {},
     "output_type": "execute_result"
    }
   ],
   "source": [
    "#best_matches_df = best_matches_df[['Doctor Topic', 'Staff Name','Business Unit', 'Similarity Score']][:34]\n",
    "best_matches_df"
   ],
   "metadata": {
    "collapsed": false,
    "ExecuteTime": {
     "end_time": "2024-03-03T09:16:49.551440Z",
     "start_time": "2024-03-03T09:16:48.819791800Z"
    }
   }
  },
  {
   "cell_type": "code",
   "execution_count": 17,
   "outputs": [],
   "source": [
    "#best_matches_df['Doctor Topic'].iloc[-1] = \"Danya Emad Abdelgawad\""
   ],
   "metadata": {
    "collapsed": false,
    "ExecuteTime": {
     "end_time": "2024-02-21T12:18:08.289847800Z",
     "start_time": "2024-02-21T12:18:08.261559300Z"
    }
   }
  },
  {
   "cell_type": "code",
   "execution_count": 18,
   "outputs": [
    {
     "ename": "IndexError",
     "evalue": "single positional indexer is out-of-bounds",
     "output_type": "error",
     "traceback": [
      "\u001B[1;31m---------------------------------------------------------------------------\u001B[0m",
      "\u001B[1;31mIndexError\u001B[0m                                Traceback (most recent call last)",
      "Cell \u001B[1;32mIn[18], line 1\u001B[0m\n\u001B[1;32m----> 1\u001B[0m \u001B[43mbest_matches_df\u001B[49m\u001B[43m[\u001B[49m\u001B[38;5;124;43m'\u001B[39;49m\u001B[38;5;124;43mStaff Name\u001B[39;49m\u001B[38;5;124;43m'\u001B[39;49m\u001B[43m]\u001B[49m\u001B[38;5;241;43m.\u001B[39;49m\u001B[43miloc\u001B[49m\u001B[43m[\u001B[49m\u001B[38;5;241;43m203\u001B[39;49m\u001B[43m]\u001B[49m \u001B[38;5;66;03m#= \"GAMEEL ABDUAZIZ  ALATTA\"\u001B[39;00m\n\u001B[0;32m      2\u001B[0m \u001B[38;5;66;03m#=  \"AHMED MAGDA SAEED ISMAEEL ALGENDY\"\u001B[39;00m\n\u001B[0;32m      3\u001B[0m \u001B[38;5;66;03m#= \"MOHAMED AHMED ELSHEIKH\"\u001B[39;00m\n\u001B[0;32m      4\u001B[0m \u001B[38;5;66;03m#\"MAHA EBRAHIM ELGHANY ALQABBANI\"\u001B[39;00m\n\u001B[1;32m   (...)\u001B[0m\n\u001B[0;32m     25\u001B[0m \u001B[38;5;66;03m#\"RAYAN ADEL AHMED HAFIZ\"\u001B[39;00m\n\u001B[0;32m     26\u001B[0m \u001B[38;5;66;03m#\"BADR YAHYA  ZAGZOOG\"\u001B[39;00m\n",
      "File \u001B[1;32mE:\\Projects\\Similarity\\venv\\lib\\site-packages\\pandas\\core\\indexing.py:1153\u001B[0m, in \u001B[0;36m_LocationIndexer.__getitem__\u001B[1;34m(self, key)\u001B[0m\n\u001B[0;32m   1150\u001B[0m axis \u001B[38;5;241m=\u001B[39m \u001B[38;5;28mself\u001B[39m\u001B[38;5;241m.\u001B[39maxis \u001B[38;5;129;01mor\u001B[39;00m \u001B[38;5;241m0\u001B[39m\n\u001B[0;32m   1152\u001B[0m maybe_callable \u001B[38;5;241m=\u001B[39m com\u001B[38;5;241m.\u001B[39mapply_if_callable(key, \u001B[38;5;28mself\u001B[39m\u001B[38;5;241m.\u001B[39mobj)\n\u001B[1;32m-> 1153\u001B[0m \u001B[38;5;28;01mreturn\u001B[39;00m \u001B[38;5;28;43mself\u001B[39;49m\u001B[38;5;241;43m.\u001B[39;49m\u001B[43m_getitem_axis\u001B[49m\u001B[43m(\u001B[49m\u001B[43mmaybe_callable\u001B[49m\u001B[43m,\u001B[49m\u001B[43m \u001B[49m\u001B[43maxis\u001B[49m\u001B[38;5;241;43m=\u001B[39;49m\u001B[43maxis\u001B[49m\u001B[43m)\u001B[49m\n",
      "File \u001B[1;32mE:\\Projects\\Similarity\\venv\\lib\\site-packages\\pandas\\core\\indexing.py:1714\u001B[0m, in \u001B[0;36m_iLocIndexer._getitem_axis\u001B[1;34m(self, key, axis)\u001B[0m\n\u001B[0;32m   1711\u001B[0m     \u001B[38;5;28;01mraise\u001B[39;00m \u001B[38;5;167;01mTypeError\u001B[39;00m(\u001B[38;5;124m\"\u001B[39m\u001B[38;5;124mCannot index by location index with a non-integer key\u001B[39m\u001B[38;5;124m\"\u001B[39m)\n\u001B[0;32m   1713\u001B[0m \u001B[38;5;66;03m# validate the location\u001B[39;00m\n\u001B[1;32m-> 1714\u001B[0m \u001B[38;5;28;43mself\u001B[39;49m\u001B[38;5;241;43m.\u001B[39;49m\u001B[43m_validate_integer\u001B[49m\u001B[43m(\u001B[49m\u001B[43mkey\u001B[49m\u001B[43m,\u001B[49m\u001B[43m \u001B[49m\u001B[43maxis\u001B[49m\u001B[43m)\u001B[49m\n\u001B[0;32m   1716\u001B[0m \u001B[38;5;28;01mreturn\u001B[39;00m \u001B[38;5;28mself\u001B[39m\u001B[38;5;241m.\u001B[39mobj\u001B[38;5;241m.\u001B[39m_ixs(key, axis\u001B[38;5;241m=\u001B[39maxis)\n",
      "File \u001B[1;32mE:\\Projects\\Similarity\\venv\\lib\\site-packages\\pandas\\core\\indexing.py:1647\u001B[0m, in \u001B[0;36m_iLocIndexer._validate_integer\u001B[1;34m(self, key, axis)\u001B[0m\n\u001B[0;32m   1645\u001B[0m len_axis \u001B[38;5;241m=\u001B[39m \u001B[38;5;28mlen\u001B[39m(\u001B[38;5;28mself\u001B[39m\u001B[38;5;241m.\u001B[39mobj\u001B[38;5;241m.\u001B[39m_get_axis(axis))\n\u001B[0;32m   1646\u001B[0m \u001B[38;5;28;01mif\u001B[39;00m key \u001B[38;5;241m>\u001B[39m\u001B[38;5;241m=\u001B[39m len_axis \u001B[38;5;129;01mor\u001B[39;00m key \u001B[38;5;241m<\u001B[39m \u001B[38;5;241m-\u001B[39mlen_axis:\n\u001B[1;32m-> 1647\u001B[0m     \u001B[38;5;28;01mraise\u001B[39;00m \u001B[38;5;167;01mIndexError\u001B[39;00m(\u001B[38;5;124m\"\u001B[39m\u001B[38;5;124msingle positional indexer is out-of-bounds\u001B[39m\u001B[38;5;124m\"\u001B[39m)\n",
      "\u001B[1;31mIndexError\u001B[0m: single positional indexer is out-of-bounds"
     ]
    }
   ],
   "source": [
    "best_matches_df['Staff Name'].iloc[203] #= \"GAMEEL ABDUAZIZ  ALATTA\"\n",
    "#=  \"AHMED MAGDA SAEED ISMAEEL ALGENDY\"\n",
    "#= \"MOHAMED AHMED ELSHEIKH\"\n",
    "#\"MAHA EBRAHIM ELGHANY ALQABBANI\"\n",
    "#= \"Dina Mostafa ElSayed Morsy\"\n",
    "#= \"MOHAMMED SULTAN ALASMARI\"\n",
    "#= \"AMAL MOHAMMED ALI MAGHRABY\"\n",
    "#= 'NEHAL NAGDY MAHMOUD ZEDAN'\n",
    "#= \"GAMEEL ABDUAZIZ  ALATTA\"\n",
    "#= \"NEHAL NAGDY MAHMOUD ZEDAN\"\n",
    "#= \"MOHAMED ABDELKHALEQ IBRAHIM ABD ELRAZEQ\"\n",
    "#= \"ABDULRAHMAN ABDULLAH ABDULGHANY ASHY\"\n",
    "#= \"IBRAHEM HOSAMUDDIN ISMAEEL ROZI\"\n",
    "#= \"Laila Mohamed Salem AlBatatie\"\n",
    "#= \"MOHAMMED SULTAN ALASMARI\"\n",
    "#= \"AHMED AMIN E. HEKAL\"\n",
    "#=  \"ASMA AMMAR  NASR\"\n",
    "# = \"GAMEEL ABDUAZIZ  ALATTA\"\n",
    "# = \"ABDULRAHMAN ABDULLAH ABDULGHANY ASHY\"\n",
    "#= \"IBRAHEM HOSAMUDDIN ISMAEEL ROZI\"\n",
    "#= \"GHAZAL FAWAZ A ALALAMY\"\n",
    "#= \"IBRAHEM HOSAMUDDIN ISMAEEL ROZI\"\n",
    "# \"ABDULRAHMAN ABDULLAH ABDULGHANY ASHY\"\n",
    "# \"AHMED SALAH  ZUGAIL\"\n",
    "#\"RAYAN ADEL AHMED HAFIZ\"\n",
    "#\"BADR YAHYA  ZAGZOOG\""
   ],
   "metadata": {
    "collapsed": false,
    "ExecuteTime": {
     "end_time": "2024-02-21T12:18:09.290009300Z",
     "start_time": "2024-02-21T12:18:09.061308500Z"
    }
   }
  },
  {
   "cell_type": "code",
   "execution_count": 8,
   "outputs": [
    {
     "ename": "IndexError",
     "evalue": "single positional indexer is out-of-bounds",
     "output_type": "error",
     "traceback": [
      "\u001B[1;31m---------------------------------------------------------------------------\u001B[0m",
      "\u001B[1;31mIndexError\u001B[0m                                Traceback (most recent call last)",
      "Cell \u001B[1;32mIn[8], line 1\u001B[0m\n\u001B[1;32m----> 1\u001B[0m \u001B[43mbest_matches_df\u001B[49m\u001B[43m[\u001B[49m\u001B[38;5;124;43m'\u001B[39;49m\u001B[38;5;124;43mStaff Name\u001B[39;49m\u001B[38;5;124;43m'\u001B[39;49m\u001B[43m]\u001B[49m\u001B[38;5;241;43m.\u001B[39;49m\u001B[43miloc\u001B[49m\u001B[43m[\u001B[49m\u001B[38;5;241;43m40\u001B[39;49m\u001B[43m]\u001B[49m \u001B[38;5;66;03m#= \"GAMEEL ABDUAZIZ  ALATTA\"\u001B[39;00m\n\u001B[0;32m      2\u001B[0m \u001B[38;5;66;03m# \"AHMED AMIN E. HEKAL\"\u001B[39;00m\n\u001B[0;32m      3\u001B[0m \u001B[38;5;66;03m# \"MOHAMED KHALIFA A. KHALIFA\"\u001B[39;00m\n\u001B[0;32m      4\u001B[0m \u001B[38;5;66;03m# \"MOHAMED AKMAL ABD ELFATTAH ABD ELRAHMAN\"\u001B[39;00m\n\u001B[1;32m   (...)\u001B[0m\n\u001B[0;32m      7\u001B[0m \u001B[38;5;66;03m# \"MOHAMED SULTAN MOHAMED ALASMARI\"\u001B[39;00m\n\u001B[0;32m      8\u001B[0m \u001B[38;5;66;03m# \"ASMA AMMAR  NASR\"\u001B[39;00m\n",
      "File \u001B[1;32mE:\\Projects\\Similarity\\venv\\lib\\site-packages\\pandas\\core\\indexing.py:1153\u001B[0m, in \u001B[0;36m_LocationIndexer.__getitem__\u001B[1;34m(self, key)\u001B[0m\n\u001B[0;32m   1150\u001B[0m axis \u001B[38;5;241m=\u001B[39m \u001B[38;5;28mself\u001B[39m\u001B[38;5;241m.\u001B[39maxis \u001B[38;5;129;01mor\u001B[39;00m \u001B[38;5;241m0\u001B[39m\n\u001B[0;32m   1152\u001B[0m maybe_callable \u001B[38;5;241m=\u001B[39m com\u001B[38;5;241m.\u001B[39mapply_if_callable(key, \u001B[38;5;28mself\u001B[39m\u001B[38;5;241m.\u001B[39mobj)\n\u001B[1;32m-> 1153\u001B[0m \u001B[38;5;28;01mreturn\u001B[39;00m \u001B[38;5;28;43mself\u001B[39;49m\u001B[38;5;241;43m.\u001B[39;49m\u001B[43m_getitem_axis\u001B[49m\u001B[43m(\u001B[49m\u001B[43mmaybe_callable\u001B[49m\u001B[43m,\u001B[49m\u001B[43m \u001B[49m\u001B[43maxis\u001B[49m\u001B[38;5;241;43m=\u001B[39;49m\u001B[43maxis\u001B[49m\u001B[43m)\u001B[49m\n",
      "File \u001B[1;32mE:\\Projects\\Similarity\\venv\\lib\\site-packages\\pandas\\core\\indexing.py:1714\u001B[0m, in \u001B[0;36m_iLocIndexer._getitem_axis\u001B[1;34m(self, key, axis)\u001B[0m\n\u001B[0;32m   1711\u001B[0m     \u001B[38;5;28;01mraise\u001B[39;00m \u001B[38;5;167;01mTypeError\u001B[39;00m(\u001B[38;5;124m\"\u001B[39m\u001B[38;5;124mCannot index by location index with a non-integer key\u001B[39m\u001B[38;5;124m\"\u001B[39m)\n\u001B[0;32m   1713\u001B[0m \u001B[38;5;66;03m# validate the location\u001B[39;00m\n\u001B[1;32m-> 1714\u001B[0m \u001B[38;5;28;43mself\u001B[39;49m\u001B[38;5;241;43m.\u001B[39;49m\u001B[43m_validate_integer\u001B[49m\u001B[43m(\u001B[49m\u001B[43mkey\u001B[49m\u001B[43m,\u001B[49m\u001B[43m \u001B[49m\u001B[43maxis\u001B[49m\u001B[43m)\u001B[49m\n\u001B[0;32m   1716\u001B[0m \u001B[38;5;28;01mreturn\u001B[39;00m \u001B[38;5;28mself\u001B[39m\u001B[38;5;241m.\u001B[39mobj\u001B[38;5;241m.\u001B[39m_ixs(key, axis\u001B[38;5;241m=\u001B[39maxis)\n",
      "File \u001B[1;32mE:\\Projects\\Similarity\\venv\\lib\\site-packages\\pandas\\core\\indexing.py:1647\u001B[0m, in \u001B[0;36m_iLocIndexer._validate_integer\u001B[1;34m(self, key, axis)\u001B[0m\n\u001B[0;32m   1645\u001B[0m len_axis \u001B[38;5;241m=\u001B[39m \u001B[38;5;28mlen\u001B[39m(\u001B[38;5;28mself\u001B[39m\u001B[38;5;241m.\u001B[39mobj\u001B[38;5;241m.\u001B[39m_get_axis(axis))\n\u001B[0;32m   1646\u001B[0m \u001B[38;5;28;01mif\u001B[39;00m key \u001B[38;5;241m>\u001B[39m\u001B[38;5;241m=\u001B[39m len_axis \u001B[38;5;129;01mor\u001B[39;00m key \u001B[38;5;241m<\u001B[39m \u001B[38;5;241m-\u001B[39mlen_axis:\n\u001B[1;32m-> 1647\u001B[0m     \u001B[38;5;28;01mraise\u001B[39;00m \u001B[38;5;167;01mIndexError\u001B[39;00m(\u001B[38;5;124m\"\u001B[39m\u001B[38;5;124msingle positional indexer is out-of-bounds\u001B[39m\u001B[38;5;124m\"\u001B[39m)\n",
      "\u001B[1;31mIndexError\u001B[0m: single positional indexer is out-of-bounds"
     ]
    }
   ],
   "source": [
    "best_matches_df['Staff Name'].iloc[40] #= \"GAMEEL ABDUAZIZ  ALATTA\"\n",
    "# \"AHMED AMIN E. HEKAL\"\n",
    "# \"MOHAMED KHALIFA A. KHALIFA\"\n",
    "# \"MOHAMED AKMAL ABD ELFATTAH ABD ELRAHMAN\"\n",
    "# \"MOHAMMED MOHAMMED IBRAHIM ELKHIAT\"\n",
    "# \"SAIFELDEEN IBRAHIM ABDELSALAM MOUSTAFA\"\n",
    "# \"MOHAMED SULTAN MOHAMED ALASMARI\"\n",
    "# \"ASMA AMMAR  NASR\""
   ],
   "metadata": {
    "collapsed": false,
    "ExecuteTime": {
     "end_time": "2024-02-20T12:28:40.246207400Z",
     "start_time": "2024-02-20T12:28:37.423877Z"
    }
   }
  },
  {
   "cell_type": "code",
   "execution_count": 19,
   "outputs": [],
   "source": [
    "copy_df = pd.DataFrame()\n",
    "copy_df['Topic'] = doctors_prep\n",
    "copy_df['Staff'] = best_matches_df['Staff Name']\n",
    "copy_df['BU'] = best_matches_df['Business Unit']\n",
    "copy_df.drop_duplicates(subset=['Topic','Staff','BU'],inplace=True)\n",
    "copy_df.dropna(inplace=True)\n",
    "\n",
    "perfect_matches_path = 'output/output_stored/' + year_num + '_' + month_num + '_' + day_num + '_' + 'best_matches.csv'\n",
    "copy_df.to_csv(perfect_matches_path,index=False,encoding='utf-8-sig')"
   ],
   "metadata": {
    "collapsed": false,
    "ExecuteTime": {
     "end_time": "2024-02-21T12:18:12.122718600Z",
     "start_time": "2024-02-21T12:18:12.034439Z"
    }
   }
  },
  {
   "cell_type": "code",
   "execution_count": 20,
   "outputs": [],
   "source": [
    "def update_table(df):\n",
    "    connect_string = urllib.parse.quote_plus(\n",
    "        'DRIVER={ODBC Driver 17 for SQL Server};Server=AWS-BI-03;Database=DWH;UID=AI;PWD=P@ssw0rd;charset=\"utf-8\";')\n",
    "    engine = sqlalchemy.create_engine(f'mssql+pyodbc:///?odbc_connect={connect_string}', fast_executemany=True)\n",
    "\n",
    "    with engine.connect() as connection:\n",
    "        df.to_sql('Aff_doc_mapping', connection, index=False,if_exists='append',chunksize=100,schema='dbo')"
   ],
   "metadata": {
    "collapsed": false,
    "ExecuteTime": {
     "end_time": "2024-02-21T12:18:12.614753600Z",
     "start_time": "2024-02-21T12:18:12.595609100Z"
    }
   }
  },
  {
   "cell_type": "code",
   "execution_count": 21,
   "outputs": [],
   "source": [
    "update_table(best_matches_df)"
   ],
   "metadata": {
    "collapsed": false,
    "ExecuteTime": {
     "end_time": "2024-02-21T12:18:22.487359Z",
     "start_time": "2024-02-21T12:18:13.266930400Z"
    }
   }
  },
  {
   "cell_type": "code",
   "execution_count": 6,
   "outputs": [
    {
     "data": {
      "text/plain": "Empty DataFrame\nColumns: [Source_Unit, Topic]\nIndex: []",
      "text/html": "<div>\n<style scoped>\n    .dataframe tbody tr th:only-of-type {\n        vertical-align: middle;\n    }\n\n    .dataframe tbody tr th {\n        vertical-align: top;\n    }\n\n    .dataframe thead th {\n        text-align: right;\n    }\n</style>\n<table border=\"1\" class=\"dataframe\">\n  <thead>\n    <tr style=\"text-align: right;\">\n      <th></th>\n      <th>Source_Unit</th>\n      <th>Topic</th>\n    </tr>\n  </thead>\n  <tbody>\n  </tbody>\n</table>\n</div>"
     },
     "execution_count": 6,
     "metadata": {},
     "output_type": "execute_result"
    }
   ],
   "source": [
    "load_lead_src_data()"
   ],
   "metadata": {
    "collapsed": false,
    "ExecuteTime": {
     "end_time": "2024-02-22T13:49:35.131526700Z",
     "start_time": "2024-02-22T13:49:32.112292600Z"
    }
   }
  },
  {
   "cell_type": "code",
   "execution_count": null,
   "outputs": [],
   "source": [],
   "metadata": {
    "collapsed": false
   }
  }
 ],
 "metadata": {
  "kernelspec": {
   "display_name": "Python 3",
   "language": "python",
   "name": "python3"
  },
  "language_info": {
   "codemirror_mode": {
    "name": "ipython",
    "version": 2
   },
   "file_extension": ".py",
   "mimetype": "text/x-python",
   "name": "python",
   "nbconvert_exporter": "python",
   "pygments_lexer": "ipython2",
   "version": "2.7.6"
  }
 },
 "nbformat": 4,
 "nbformat_minor": 0
}
